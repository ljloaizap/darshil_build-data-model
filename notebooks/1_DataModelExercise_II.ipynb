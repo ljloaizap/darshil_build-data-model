{
 "cells": [
  {
   "cell_type": "code",
   "execution_count": 2,
   "id": "9b8392a6-336c-430f-ae5c-40ad6cf3cc35",
   "metadata": {},
   "outputs": [],
   "source": [
    "import psycopg2\n",
    "import pandas as pd"
   ]
  },
  {
   "cell_type": "code",
   "execution_count": 3,
   "id": "6a356e44-193b-495d-864b-610fcda88a93",
   "metadata": {},
   "outputs": [],
   "source": [
    "def create_database():\n",
    "    '''Connect to default db'''\n",
    "    conn = psycopg2.connect('host=localhost dbname=postgres password=postgres')\n",
    "    conn.set_session(autocommit=True)\n",
    "    cur = conn.cursor()\n",
    "\n",
    "    # Create sparkify db with UTF8 encoding\n",
    "    cur.execute('DROP DATABASE IF EXISTS accounts')\n",
    "    cur.execute('CREATE DATABASE accounts')\n",
    "\n",
    "    # Close connection to default db\n",
    "    conn.close()\n",
    "\n",
    "    # Connect to new db\n",
    "    conn = psycopg2.connect('host=localhost dbname=accounts password=postgres')\n",
    "    cur = conn.cursor\n",
    "\n",
    "    return cur, conn"
   ]
  },
  {
   "cell_type": "code",
   "execution_count": null,
   "id": "c1a84ed6-6463-45b1-bf32-ed3023172945",
   "metadata": {},
   "outputs": [],
   "source": []
  }
 ],
 "metadata": {
  "kernelspec": {
   "display_name": "coding_with_darshil",
   "language": "python",
   "name": "coding_with_darshil"
  },
  "language_info": {
   "codemirror_mode": {
    "name": "ipython",
    "version": 3
   },
   "file_extension": ".py",
   "mimetype": "text/x-python",
   "name": "python",
   "nbconvert_exporter": "python",
   "pygments_lexer": "ipython3",
   "version": "3.8.10"
  }
 },
 "nbformat": 4,
 "nbformat_minor": 5
}
