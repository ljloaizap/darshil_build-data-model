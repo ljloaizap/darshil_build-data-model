{
 "cells": [
  {
   "cell_type": "markdown",
   "id": "740ff3a7-26ec-4c6d-9af0-78d7dc2845dc",
   "metadata": {},
   "source": [
    "# "
   ]
  },
  {
   "cell_type": "code",
   "execution_count": 127,
   "id": "9b8392a6-336c-430f-ae5c-40ad6cf3cc35",
   "metadata": {},
   "outputs": [],
   "source": [
    "import psycopg2\n",
    "import pandas as pd"
   ]
  },
  {
   "cell_type": "markdown",
   "id": "c6f1ea38-036c-40d5-a9e3-cc920b9cd28e",
   "metadata": {
    "jp-MarkdownHeadingCollapsed": true
   },
   "source": [
    "## Functions to interact with database"
   ]
  },
  {
   "cell_type": "code",
   "execution_count": 128,
   "id": "6a356e44-193b-495d-864b-610fcda88a93",
   "metadata": {},
   "outputs": [],
   "source": [
    "def create_database():\n",
    "    '''Connect to default db'''\n",
    "    conn = psycopg2.connect('host=localhost dbname=postgres user=postgres password=postgres')\n",
    "    conn.set_session(autocommit=True)\n",
    "    cur = conn.cursor()\n",
    "\n",
    "    # Create sparkify db with UTF8 encoding\n",
    "    cur.execute('DROP DATABASE IF EXISTS accounts')\n",
    "    cur.execute('CREATE DATABASE accounts')\n",
    "\n",
    "    # Close connection to default db\n",
    "    conn.close()\n",
    "\n",
    "    # Connect to new db\n",
    "    conn = psycopg2.connect('host=localhost dbname=postgres user=postgres password=postgres')\n",
    "    cur = conn.cursor()\n",
    "\n",
    "    return cur, conn"
   ]
  },
  {
   "cell_type": "code",
   "execution_count": 129,
   "id": "c1a84ed6-6463-45b1-bf32-ed3023172945",
   "metadata": {},
   "outputs": [],
   "source": [
    "def drop_tables(cur, conn):\n",
    "    for query in drop_table_queries:\n",
    "        cur.execute(query)\n",
    "        conn.commit()"
   ]
  },
  {
   "cell_type": "code",
   "execution_count": 130,
   "id": "78991f0a-f186-401e-b69f-ed9ee76c1d3c",
   "metadata": {},
   "outputs": [],
   "source": [
    "def create_tables(cur, conn):\n",
    "    for query in create_table_queries:\n",
    "        cur.execute(query)\n",
    "        conn.commit()"
   ]
  },
  {
   "cell_type": "markdown",
   "id": "e24b8bf2-afcc-4ffc-ac17-f60e7cd0b0d5",
   "metadata": {
    "jp-MarkdownHeadingCollapsed": true
   },
   "source": [
    "## Reading \"Accounts Country\" .csv file"
   ]
  },
  {
   "cell_type": "code",
   "execution_count": 131,
   "id": "dcb744cf-f602-44cc-b2a6-3c03b837478a",
   "metadata": {},
   "outputs": [],
   "source": [
    "dfAccountsCountry = pd.read_csv('../datasets/Wealth-AccountsCountry.csv')"
   ]
  },
  {
   "cell_type": "code",
   "execution_count": 132,
   "id": "0bb684fb-671b-406f-8777-897e2f191b75",
   "metadata": {},
   "outputs": [],
   "source": [
    "#dfAccountsCountry.head()"
   ]
  },
  {
   "cell_type": "code",
   "execution_count": 133,
   "id": "dea65e97-6103-4e74-beb8-3af51b9cc9b5",
   "metadata": {},
   "outputs": [],
   "source": [
    "dfAccountsCountry_clean = dfAccountsCountry[['Code', 'Short Name', 'Table Name', 'Long Name', 'Currency Unit']].dropna()"
   ]
  },
  {
   "cell_type": "code",
   "execution_count": 134,
   "id": "84af45d6-b395-43fd-8317-f3e33c1cda9c",
   "metadata": {},
   "outputs": [
    {
     "data": {
      "text/html": [
       "<div>\n",
       "<style scoped>\n",
       "    .dataframe tbody tr th:only-of-type {\n",
       "        vertical-align: middle;\n",
       "    }\n",
       "\n",
       "    .dataframe tbody tr th {\n",
       "        vertical-align: top;\n",
       "    }\n",
       "\n",
       "    .dataframe thead th {\n",
       "        text-align: right;\n",
       "    }\n",
       "</style>\n",
       "<table border=\"1\" class=\"dataframe\">\n",
       "  <thead>\n",
       "    <tr style=\"text-align: right;\">\n",
       "      <th></th>\n",
       "      <th>Code</th>\n",
       "      <th>Short Name</th>\n",
       "      <th>Table Name</th>\n",
       "      <th>Long Name</th>\n",
       "      <th>Currency Unit</th>\n",
       "    </tr>\n",
       "  </thead>\n",
       "  <tbody>\n",
       "    <tr>\n",
       "      <th>0</th>\n",
       "      <td>ALB</td>\n",
       "      <td>Albania</td>\n",
       "      <td>Albania</td>\n",
       "      <td>Republic of Albania</td>\n",
       "      <td>Albanian lek</td>\n",
       "    </tr>\n",
       "    <tr>\n",
       "      <th>1</th>\n",
       "      <td>ARG</td>\n",
       "      <td>Argentina</td>\n",
       "      <td>Argentina</td>\n",
       "      <td>Argentine Republic</td>\n",
       "      <td>Argentine peso</td>\n",
       "    </tr>\n",
       "    <tr>\n",
       "      <th>2</th>\n",
       "      <td>ARM</td>\n",
       "      <td>Armenia</td>\n",
       "      <td>Armenia</td>\n",
       "      <td>Republic of Armenia</td>\n",
       "      <td>Armenian dram</td>\n",
       "    </tr>\n",
       "    <tr>\n",
       "      <th>3</th>\n",
       "      <td>AUS</td>\n",
       "      <td>Australia</td>\n",
       "      <td>Australia</td>\n",
       "      <td>Commonwealth of Australia</td>\n",
       "      <td>Australian dollar</td>\n",
       "    </tr>\n",
       "    <tr>\n",
       "      <th>4</th>\n",
       "      <td>AUT</td>\n",
       "      <td>Austria</td>\n",
       "      <td>Austria</td>\n",
       "      <td>Republic of Austria</td>\n",
       "      <td>Euro</td>\n",
       "    </tr>\n",
       "    <tr>\n",
       "      <th>...</th>\n",
       "      <td>...</td>\n",
       "      <td>...</td>\n",
       "      <td>...</td>\n",
       "      <td>...</td>\n",
       "      <td>...</td>\n",
       "    </tr>\n",
       "    <tr>\n",
       "      <th>141</th>\n",
       "      <td>VNM</td>\n",
       "      <td>Vietnam</td>\n",
       "      <td>Vietnam</td>\n",
       "      <td>Socialist Republic of Vietnam</td>\n",
       "      <td>Vietnamese dong</td>\n",
       "    </tr>\n",
       "    <tr>\n",
       "      <th>142</th>\n",
       "      <td>PSE</td>\n",
       "      <td>West Bank and Gaza</td>\n",
       "      <td>West Bank and Gaza</td>\n",
       "      <td>West Bank and Gaza</td>\n",
       "      <td>Israeli new shekel</td>\n",
       "    </tr>\n",
       "    <tr>\n",
       "      <th>143</th>\n",
       "      <td>YEM</td>\n",
       "      <td>Yemen</td>\n",
       "      <td>Yemen, Rep.</td>\n",
       "      <td>Republic of Yemen</td>\n",
       "      <td>Yemeni rial</td>\n",
       "    </tr>\n",
       "    <tr>\n",
       "      <th>144</th>\n",
       "      <td>ZMB</td>\n",
       "      <td>Zambia</td>\n",
       "      <td>Zambia</td>\n",
       "      <td>Republic of Zambia</td>\n",
       "      <td>New Zambian kwacha</td>\n",
       "    </tr>\n",
       "    <tr>\n",
       "      <th>145</th>\n",
       "      <td>ZWE</td>\n",
       "      <td>Zimbabwe</td>\n",
       "      <td>Zimbabwe</td>\n",
       "      <td>Republic of Zimbabwe</td>\n",
       "      <td>U.S. dollar</td>\n",
       "    </tr>\n",
       "  </tbody>\n",
       "</table>\n",
       "<p>146 rows × 5 columns</p>\n",
       "</div>"
      ],
      "text/plain": [
       "    Code          Short Name          Table Name  \\\n",
       "0    ALB             Albania             Albania   \n",
       "1    ARG           Argentina           Argentina   \n",
       "2    ARM             Armenia             Armenia   \n",
       "3    AUS           Australia           Australia   \n",
       "4    AUT             Austria             Austria   \n",
       "..   ...                 ...                 ...   \n",
       "141  VNM             Vietnam             Vietnam   \n",
       "142  PSE  West Bank and Gaza  West Bank and Gaza   \n",
       "143  YEM               Yemen         Yemen, Rep.   \n",
       "144  ZMB              Zambia              Zambia   \n",
       "145  ZWE            Zimbabwe            Zimbabwe   \n",
       "\n",
       "                         Long Name       Currency Unit  \n",
       "0              Republic of Albania        Albanian lek  \n",
       "1               Argentine Republic      Argentine peso  \n",
       "2              Republic of Armenia       Armenian dram  \n",
       "3        Commonwealth of Australia   Australian dollar  \n",
       "4              Republic of Austria                Euro  \n",
       "..                             ...                 ...  \n",
       "141  Socialist Republic of Vietnam     Vietnamese dong  \n",
       "142             West Bank and Gaza  Israeli new shekel  \n",
       "143              Republic of Yemen         Yemeni rial  \n",
       "144             Republic of Zambia  New Zambian kwacha  \n",
       "145           Republic of Zimbabwe         U.S. dollar  \n",
       "\n",
       "[146 rows x 5 columns]"
      ]
     },
     "execution_count": 134,
     "metadata": {},
     "output_type": "execute_result"
    }
   ],
   "source": [
    "dfAccountsCountry_clean.head(200)"
   ]
  },
  {
   "cell_type": "markdown",
   "id": "0d31c205-3c4b-4de7-8dff-5f8b624cbc7f",
   "metadata": {
    "jp-MarkdownHeadingCollapsed": true
   },
   "source": [
    "## Reading \"Accounts Data\" .csv file"
   ]
  },
  {
   "cell_type": "code",
   "execution_count": 135,
   "id": "4ebf3b2d-898c-466d-bd6c-f608a3b56d37",
   "metadata": {},
   "outputs": [],
   "source": [
    "dfAccountData = pd.read_csv('../datasets/Wealth-AccountData.csv')"
   ]
  },
  {
   "cell_type": "code",
   "execution_count": 136,
   "id": "3a21d609-2576-47b0-ba9a-cade531a364b",
   "metadata": {},
   "outputs": [],
   "source": [
    "# dfAccountData.head()"
   ]
  },
  {
   "cell_type": "code",
   "execution_count": 137,
   "id": "d920df31-4168-4cb2-a039-c0ef45d13c59",
   "metadata": {},
   "outputs": [
    {
     "data": {
      "text/plain": [
       "Index(['Country Name', 'Country Code', 'Series Name', 'Series Code',\n",
       "       '1995 [YR1995]', '1996 [YR1996]', '1997 [YR1997]', '1998 [YR1998]',\n",
       "       '1999 [YR1999]', '2000 [YR2000]', '2001 [YR2001]', '2002 [YR2002]',\n",
       "       '2003 [YR2003]', '2004 [YR2004]', '2005 [YR2005]', '2006 [YR2006]',\n",
       "       '2007 [YR2007]', '2008 [YR2008]', '2009 [YR2009]', '2010 [YR2010]',\n",
       "       '2011 [YR2011]', '2012 [YR2012]', '2013 [YR2013]', '2014 [YR2014]',\n",
       "       '2015 [YR2015]', '2016 [YR2016]', '2017 [YR2017]', '2018 [YR2018]',\n",
       "       'YOLO'],\n",
       "      dtype='object')"
      ]
     },
     "execution_count": 137,
     "metadata": {},
     "output_type": "execute_result"
    }
   ],
   "source": [
    "dfAccountData.columns"
   ]
  },
  {
   "cell_type": "code",
   "execution_count": 138,
   "id": "7b586cb1-9e70-4e7e-a70b-59833876efef",
   "metadata": {},
   "outputs": [
    {
     "data": {
      "text/html": [
       "<div>\n",
       "<style scoped>\n",
       "    .dataframe tbody tr th:only-of-type {\n",
       "        vertical-align: middle;\n",
       "    }\n",
       "\n",
       "    .dataframe tbody tr th {\n",
       "        vertical-align: top;\n",
       "    }\n",
       "\n",
       "    .dataframe thead th {\n",
       "        text-align: right;\n",
       "    }\n",
       "</style>\n",
       "<table border=\"1\" class=\"dataframe\">\n",
       "  <thead>\n",
       "    <tr style=\"text-align: right;\">\n",
       "      <th></th>\n",
       "      <th>Country Name</th>\n",
       "      <th>Country Code</th>\n",
       "      <th>Series Name</th>\n",
       "      <th>Series Code</th>\n",
       "      <th>1995 [YR1995]</th>\n",
       "      <th>2000 [YR2000]</th>\n",
       "      <th>2005 [YR2005]</th>\n",
       "      <th>2010 [YR2010]</th>\n",
       "      <th>2014 [YR2014]</th>\n",
       "    </tr>\n",
       "  </thead>\n",
       "  <tbody>\n",
       "    <tr>\n",
       "      <th>0</th>\n",
       "      <td>Albania</td>\n",
       "      <td>ALB</td>\n",
       "      <td>Human capital (constant 2018 US$)</td>\n",
       "      <td>NW.HCA.TO</td>\n",
       "      <td>4.49E+10</td>\n",
       "      <td>4.36E+10</td>\n",
       "      <td>5.440000e+10</td>\n",
       "      <td>6.810000e+10</td>\n",
       "      <td>7.250000e+10</td>\n",
       "    </tr>\n",
       "    <tr>\n",
       "      <th>1</th>\n",
       "      <td>Albania</td>\n",
       "      <td>ALB</td>\n",
       "      <td>Human capital per capita (constant 2018 US$)</td>\n",
       "      <td>NW.HCA.PC</td>\n",
       "      <td>14072.79</td>\n",
       "      <td>14118.13</td>\n",
       "      <td>1.807230e+04</td>\n",
       "      <td>2.336286e+04</td>\n",
       "      <td>2.509002e+04</td>\n",
       "    </tr>\n",
       "    <tr>\n",
       "      <th>2</th>\n",
       "      <td>Albania</td>\n",
       "      <td>ALB</td>\n",
       "      <td>Human capital per capita, employed female (con...</td>\n",
       "      <td>NW.HCA.FEMP.PC</td>\n",
       "      <td>3468.858</td>\n",
       "      <td>3424.007</td>\n",
       "      <td>2.222115e+03</td>\n",
       "      <td>2.889150e+03</td>\n",
       "      <td>2.957420e+03</td>\n",
       "    </tr>\n",
       "    <tr>\n",
       "      <th>3</th>\n",
       "      <td>Albania</td>\n",
       "      <td>ALB</td>\n",
       "      <td>Human capital per capita, employed male (const...</td>\n",
       "      <td>NW.HCA.MEMP.PC</td>\n",
       "      <td>6507.931</td>\n",
       "      <td>6872.019</td>\n",
       "      <td>1.168935e+04</td>\n",
       "      <td>1.578992e+04</td>\n",
       "      <td>1.699138e+04</td>\n",
       "    </tr>\n",
       "    <tr>\n",
       "      <th>4</th>\n",
       "      <td>Albania</td>\n",
       "      <td>ALB</td>\n",
       "      <td>Human capital per capita, female (constant 201...</td>\n",
       "      <td>NW.HCA.FEMA.PC</td>\n",
       "      <td>4893.006</td>\n",
       "      <td>4695.071</td>\n",
       "      <td>2.886736e+03</td>\n",
       "      <td>3.613606e+03</td>\n",
       "      <td>3.719608e+03</td>\n",
       "    </tr>\n",
       "  </tbody>\n",
       "</table>\n",
       "</div>"
      ],
      "text/plain": [
       "  Country Name Country Code  \\\n",
       "0      Albania          ALB   \n",
       "1      Albania          ALB   \n",
       "2      Albania          ALB   \n",
       "3      Albania          ALB   \n",
       "4      Albania          ALB   \n",
       "\n",
       "                                         Series Name     Series Code  \\\n",
       "0                  Human capital (constant 2018 US$)       NW.HCA.TO   \n",
       "1       Human capital per capita (constant 2018 US$)       NW.HCA.PC   \n",
       "2  Human capital per capita, employed female (con...  NW.HCA.FEMP.PC   \n",
       "3  Human capital per capita, employed male (const...  NW.HCA.MEMP.PC   \n",
       "4  Human capital per capita, female (constant 201...  NW.HCA.FEMA.PC   \n",
       "\n",
       "  1995 [YR1995] 2000 [YR2000]  2005 [YR2005]  2010 [YR2010]  2014 [YR2014]  \n",
       "0      4.49E+10      4.36E+10   5.440000e+10   6.810000e+10   7.250000e+10  \n",
       "1      14072.79      14118.13   1.807230e+04   2.336286e+04   2.509002e+04  \n",
       "2      3468.858      3424.007   2.222115e+03   2.889150e+03   2.957420e+03  \n",
       "3      6507.931      6872.019   1.168935e+04   1.578992e+04   1.699138e+04  \n",
       "4      4893.006      4695.071   2.886736e+03   3.613606e+03   3.719608e+03  "
      ]
     },
     "execution_count": 138,
     "metadata": {},
     "output_type": "execute_result"
    }
   ],
   "source": [
    "dfAccountData = dfAccountData.drop(['YOLO'], axis=1)  # axis=1 for column; axis=0 for index (raw); default is 0.\n",
    "dfAccountData = dfAccountData[['Country Name', 'Country Code', 'Series Name', 'Series Code', '1995 [YR1995]', '2000 [YR2000]', '2005 [YR2005]', '2010 [YR2010]', '2014 [YR2014]']]\n",
    "dfAccountData.head()"
   ]
  },
  {
   "cell_type": "markdown",
   "id": "94113877-c784-451e-9c69-12d09d9c3483",
   "metadata": {
    "jp-MarkdownHeadingCollapsed": true
   },
   "source": [
    "## Reading \"Account Series\" .csv file"
   ]
  },
  {
   "cell_type": "code",
   "execution_count": 139,
   "id": "92ed61f7-5854-4292-b4f4-b6eea00e1564",
   "metadata": {},
   "outputs": [],
   "source": [
    "dfAccountSeries = pd.read_csv('../datasets/Wealth-AccountSeries.csv')\n",
    "#dfAccountSeries.head()"
   ]
  },
  {
   "cell_type": "code",
   "execution_count": 140,
   "id": "2fdcc940-0ade-4ef7-94b5-fba36208cd81",
   "metadata": {},
   "outputs": [
    {
     "data": {
      "text/html": [
       "<div>\n",
       "<style scoped>\n",
       "    .dataframe tbody tr th:only-of-type {\n",
       "        vertical-align: middle;\n",
       "    }\n",
       "\n",
       "    .dataframe tbody tr th {\n",
       "        vertical-align: top;\n",
       "    }\n",
       "\n",
       "    .dataframe thead th {\n",
       "        text-align: right;\n",
       "    }\n",
       "</style>\n",
       "<table border=\"1\" class=\"dataframe\">\n",
       "  <thead>\n",
       "    <tr style=\"text-align: right;\">\n",
       "      <th></th>\n",
       "      <th>Code</th>\n",
       "      <th>Topic</th>\n",
       "      <th>Indicator Name</th>\n",
       "      <th>Long definition</th>\n",
       "    </tr>\n",
       "  </thead>\n",
       "  <tbody>\n",
       "    <tr>\n",
       "      <th>0</th>\n",
       "      <td>NW.HCA.TO</td>\n",
       "      <td>Human capital</td>\n",
       "      <td>Human capital (constant 2018 US$)</td>\n",
       "      <td>Human capital is computed as the present value...</td>\n",
       "    </tr>\n",
       "    <tr>\n",
       "      <th>1</th>\n",
       "      <td>NW.HCA.PC</td>\n",
       "      <td>Human capital</td>\n",
       "      <td>Human capital per capita (constant 2018 US$)</td>\n",
       "      <td>Human capital is computed as the present value...</td>\n",
       "    </tr>\n",
       "    <tr>\n",
       "      <th>2</th>\n",
       "      <td>NW.HCA.FEMP.PC</td>\n",
       "      <td>Human capital</td>\n",
       "      <td>Human capital per capita, employed female (con...</td>\n",
       "      <td>Human capital is computed as the present value...</td>\n",
       "    </tr>\n",
       "    <tr>\n",
       "      <th>3</th>\n",
       "      <td>NW.HCA.MEMP.PC</td>\n",
       "      <td>Human capital</td>\n",
       "      <td>Human capital per capita, employed male (const...</td>\n",
       "      <td>Human capital is computed as the present value...</td>\n",
       "    </tr>\n",
       "    <tr>\n",
       "      <th>4</th>\n",
       "      <td>NW.HCA.FEMA.PC</td>\n",
       "      <td>Human capital</td>\n",
       "      <td>Human capital per capita, female (constant 201...</td>\n",
       "      <td>Human capital is computed as the present value...</td>\n",
       "    </tr>\n",
       "  </tbody>\n",
       "</table>\n",
       "</div>"
      ],
      "text/plain": [
       "             Code          Topic  \\\n",
       "0       NW.HCA.TO  Human capital   \n",
       "1       NW.HCA.PC  Human capital   \n",
       "2  NW.HCA.FEMP.PC  Human capital   \n",
       "3  NW.HCA.MEMP.PC  Human capital   \n",
       "4  NW.HCA.FEMA.PC  Human capital   \n",
       "\n",
       "                                      Indicator Name  \\\n",
       "0                  Human capital (constant 2018 US$)   \n",
       "1       Human capital per capita (constant 2018 US$)   \n",
       "2  Human capital per capita, employed female (con...   \n",
       "3  Human capital per capita, employed male (const...   \n",
       "4  Human capital per capita, female (constant 201...   \n",
       "\n",
       "                                     Long definition  \n",
       "0  Human capital is computed as the present value...  \n",
       "1  Human capital is computed as the present value...  \n",
       "2  Human capital is computed as the present value...  \n",
       "3  Human capital is computed as the present value...  \n",
       "4  Human capital is computed as the present value...  "
      ]
     },
     "execution_count": 140,
     "metadata": {},
     "output_type": "execute_result"
    }
   ],
   "source": [
    "dfAccountSeries = dfAccountSeries[['Code', 'Topic', 'Indicator Name', 'Long definition']]\n",
    "dfAccountSeries.head()"
   ]
  },
  {
   "cell_type": "markdown",
   "id": "538cd19f-e05e-4e0f-aa03-a162673fe85c",
   "metadata": {
    "jp-MarkdownHeadingCollapsed": true
   },
   "source": [
    "## Creating tables"
   ]
  },
  {
   "cell_type": "code",
   "execution_count": 141,
   "id": "b1661985-0ce9-40a9-a1cd-e3aec8299fe2",
   "metadata": {},
   "outputs": [],
   "source": [
    "cur, conn = create_database()"
   ]
  },
  {
   "cell_type": "code",
   "execution_count": 142,
   "id": "bc452ef8-b406-4876-bc39-1b76d1d6a67b",
   "metadata": {},
   "outputs": [],
   "source": [
    "sql_account_country_table_create = '''\n",
    "    DROP TABLE IF EXISTS AccountCountry;\n",
    "    CREATE TABLE AccountCountry(\n",
    "        country_code VARCHAR PRIMARY KEY,\n",
    "        short_name VARCHAR,\n",
    "        table_name VARCHAR,\n",
    "        long_name VARCHAR,\n",
    "        currency_unit VARCHAR\n",
    "    )\n",
    "'''\n",
    "cur.execute(sql_account_country_table_create)\n",
    "conn.commit()"
   ]
  },
  {
   "cell_type": "code",
   "execution_count": 143,
   "id": "c6d76758-d520-472d-b1eb-72ae9bd029ea",
   "metadata": {},
   "outputs": [],
   "source": [
    "sql_account_data_table_create = '''\n",
    "    DROP TABLE IF EXISTS AccountData;\n",
    "    CREATE TABLE AccountData(\n",
    "        id SERIAL PRIMARY KEY,\n",
    "        country_name VARCHAR,\n",
    "        country_code VARCHAR,\n",
    "        series_name VARCHAR,\n",
    "        series_code VARCHAR,\n",
    "        year_1995 VARCHAR,\n",
    "        year_2000 VARCHAR,\n",
    "        year_2005 VARCHAR,\n",
    "        year_2010 VARCHAR,\n",
    "        year_2014 VARCHAR\n",
    "    )\n",
    "'''\n",
    "cur.execute(sql_account_data_table_create)\n",
    "conn.commit()"
   ]
  },
  {
   "cell_type": "code",
   "execution_count": 144,
   "id": "7f19bb98-9b69-44a1-8e55-5a3f9ac0f43a",
   "metadata": {},
   "outputs": [],
   "source": [
    "sql_account_series_table_create = '''\n",
    "    DROP TABLE IF EXISTS AccountSeries;\n",
    "    CREATE TABLE AccountSeries(\n",
    "        id SERIAL PRIMARY KEY,\n",
    "        series_code VARCHAR,\n",
    "        topic VARCHAR,\n",
    "        indicator_name VARCHAR,\n",
    "        long_definition VARCHAR\n",
    "    )\n",
    "'''\n",
    "cur.execute(sql_account_series_table_create)\n",
    "conn.commit()"
   ]
  },
  {
   "cell_type": "markdown",
   "id": "11b94c61-21ed-4c42-8b02-af39ae0c8275",
   "metadata": {},
   "source": [
    "## Inserting data"
   ]
  },
  {
   "cell_type": "code",
   "execution_count": 145,
   "id": "fb5ce733-63e0-4c21-814f-4f3acd724f9e",
   "metadata": {},
   "outputs": [
    {
     "name": "stdout",
     "output_type": "stream",
     "text": [
      "\"AccountCountry\" data is saved\n"
     ]
    }
   ],
   "source": [
    "sql_account_country_table_insert = '''\n",
    "     INSERT INTO AccountCountry (\n",
    "        country_code, short_name, table_name, long_name, currency_unit\n",
    "    ) VALUES (\n",
    "        %s, %s, %s, %s, %s\n",
    "    )\n",
    "'''\n",
    "\n",
    "for i, row in dfAccountsCountry_clean.iterrows():\n",
    "    cur.execute(sql_account_country_table_insert, list(row))\n",
    "conn.commit()\n",
    "print('\"AccountCountry\" data is saved')"
   ]
  },
  {
   "cell_type": "code",
   "execution_count": 146,
   "id": "e3d6045e-3735-4dd6-84cc-9a34b235b2f3",
   "metadata": {},
   "outputs": [
    {
     "name": "stdout",
     "output_type": "stream",
     "text": [
      "\"AccountData\" data is saved\n"
     ]
    }
   ],
   "source": [
    "sql_account_data_table_insert = '''\n",
    "     INSERT INTO AccountData (\n",
    "        country_name, country_code, series_name, series_code, year_1995, year_2000, year_2005, year_2010, year_2014\n",
    "    ) VALUES (\n",
    "        %s, %s, %s, %s, %s, %s, %s, %s, %s\n",
    "    )\n",
    "'''\n",
    "\n",
    "for i, row in dfAccountData.iterrows():\n",
    "    cur.execute(sql_account_data_table_insert, list(row))\n",
    "conn.commit()\n",
    "print('\"AccountData\" data is saved')"
   ]
  },
  {
   "cell_type": "code",
   "execution_count": 147,
   "id": "05c7272e-cf8d-4a1c-9ecf-fca4b6caf426",
   "metadata": {},
   "outputs": [
    {
     "name": "stdout",
     "output_type": "stream",
     "text": [
      "\"AccountSeries\" data is saved\n"
     ]
    }
   ],
   "source": [
    "sql_account_series_table_insert = '''\n",
    "     INSERT INTO AccountSeries (\n",
    "        series_code, topic, indicator_name, long_definition\n",
    "    ) VALUES (\n",
    "        %s, %s, %s, %s\n",
    "    )\n",
    "'''\n",
    "\n",
    "for i, row in dfAccountSeries.iterrows():\n",
    "    cur.execute(sql_account_series_table_insert, list(row))\n",
    "conn.commit()\n",
    "print('\"AccountSeries\" data is saved')"
   ]
  }
 ],
 "metadata": {
  "kernelspec": {
   "display_name": "coding_with_darshil",
   "language": "python",
   "name": "coding_with_darshil"
  },
  "language_info": {
   "codemirror_mode": {
    "name": "ipython",
    "version": 3
   },
   "file_extension": ".py",
   "mimetype": "text/x-python",
   "name": "python",
   "nbconvert_exporter": "python",
   "pygments_lexer": "ipython3",
   "version": "3.8.10"
  }
 },
 "nbformat": 4,
 "nbformat_minor": 5
}
