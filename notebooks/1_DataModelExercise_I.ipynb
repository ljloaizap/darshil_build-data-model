{
 "cells": [
  {
   "cell_type": "markdown",
   "id": "83b405fb-198b-43cf-96b0-d43814b8eaa7",
   "metadata": {},
   "source": [
    "# Data Model exercise with Darshil, [link](https://www.youtube.com/watch?v=K45k-gNNzGo&list=PLBJe2dFI4sgukOW6O0B-OVyX9c6fQKJ2N&index=2&ab_channel=DarshilParmar)\n"
   ]
  },
  {
   "cell_type": "code",
   "execution_count": 3,
   "id": "95b955b2-410f-4b5c-a1e5-5d4d2d525af9",
   "metadata": {},
   "outputs": [
    {
     "name": "stdout",
     "output_type": "stream",
     "text": [
      "Requirement already satisfied: psycopg2-binary in /home/liliana.loaiza/.virtualenvs/Darshil_BuildDataModelAndDB-0WCAD1jB/lib/python3.8/site-packages (2.9.6)\n"
     ]
    }
   ],
   "source": [
    "!pip install psycopg2-binary"
   ]
  },
  {
   "cell_type": "code",
   "execution_count": 4,
   "id": "7237ece3-1937-4903-89fa-eb3c3c9ab7a4",
   "metadata": {},
   "outputs": [],
   "source": [
    "import psycopg2"
   ]
  },
  {
   "cell_type": "markdown",
   "id": "c3417344-b1f1-4a30-81b4-10facae01f31",
   "metadata": {},
   "source": [
    "### Create a connection to the db"
   ]
  },
  {
   "cell_type": "code",
   "execution_count": 25,
   "id": "e029b1c2-936f-43af-ac33-64f4494de494",
   "metadata": {},
   "outputs": [],
   "source": [
    "try:\n",
    "    conn = psycopg2.connect('host=localhost dbname=postgres user=postgres password=postgres')\n",
    "except psycopg2.Error as e:\n",
    "    print('Error: could not make connection to the Postgres database')\n",
    "    print(e)"
   ]
  },
  {
   "cell_type": "markdown",
   "id": "5de2d1ea-606e-480b-a3cb-36646821a5b1",
   "metadata": {},
   "source": [
    "### Get a cursor to execute queries"
   ]
  },
  {
   "cell_type": "code",
   "execution_count": 26,
   "id": "4a1ce5db-4462-4543-b8d1-ea42e849002b",
   "metadata": {
    "scrolled": true
   },
   "outputs": [],
   "source": [
    "try:\n",
    "    cur = conn.cursor()\n",
    "except psycopg2.Error as e:\n",
    "    print('Error: Could not get cursor to the db')\n",
    "    print(e)"
   ]
  },
  {
   "cell_type": "code",
   "execution_count": 27,
   "id": "a35a9dcd-0573-4725-a1ed-a34581ab1cb1",
   "metadata": {},
   "outputs": [],
   "source": [
    "conn.set_session(autocommit=True)"
   ]
  },
  {
   "cell_type": "markdown",
   "id": "f51929c5-4839-4624-a837-9635afe89ea4",
   "metadata": {},
   "source": [
    "### Create new db"
   ]
  },
  {
   "cell_type": "code",
   "execution_count": 28,
   "id": "085fabff-4c36-44fc-afa8-49431d9c33c5",
   "metadata": {},
   "outputs": [],
   "source": [
    "try:\n",
    "    cur.execute('Create database myfirstdb')\n",
    "except psycopg2.Error as e:\n",
    "    print(e)"
   ]
  },
  {
   "cell_type": "markdown",
   "id": "0d44d9e3-8d04-417b-bc06-5bb69a2f7486",
   "metadata": {},
   "source": [
    "### Connect to the other db"
   ]
  },
  {
   "cell_type": "code",
   "execution_count": 29,
   "id": "45c9cb55-2de0-4a7a-88f4-3b80c3419376",
   "metadata": {},
   "outputs": [
    {
     "name": "stdout",
     "output_type": "stream",
     "text": [
      "Connected to new db\n"
     ]
    }
   ],
   "source": [
    "try:\n",
    "    conn.close()\n",
    "except psycopg2.Error as e:\n",
    "    print(e)\n",
    "\n",
    "try:\n",
    "    conn = psycopg2.connect('host=localhost dbname=myfirstdb user=postgres password=postgres')\n",
    "except psycopg2.Error as e:\n",
    "    print('Error: could not make connection to the postgres db')\n",
    "    print(e)\n",
    "\n",
    "try:\n",
    "    cur = conn.cursor()\n",
    "except psycopg2.Error as e:\n",
    "    print('Error: could not get cursor to the db')\n",
    "    print(e)\n",
    "\n",
    "conn.set_session(autocommit=True)\n",
    "\n",
    "print('Connected to new db')"
   ]
  },
  {
   "cell_type": "markdown",
   "id": "d9a01bec-5ace-4761-94cb-d475089d5b27",
   "metadata": {},
   "source": [
    "### Create table for students"
   ]
  },
  {
   "cell_type": "code",
   "execution_count": 32,
   "id": "e6b8ceec-f340-4cb9-b8a1-90ab15a614e0",
   "metadata": {},
   "outputs": [
    {
     "name": "stdout",
     "output_type": "stream",
     "text": [
      "Table student has been created\n"
     ]
    }
   ],
   "source": [
    "sql = '''\n",
    "    CREATE TABLE student (\n",
    "        id SERIAL PRIMARY KEY,\n",
    "        name varchar(100) NOT NULL,\n",
    "        age INT NOT NULL,\n",
    "        gender varchar(20) NOT NULL,\n",
    "        subject varchar(50),\n",
    "        marks INT\n",
    "    )\n",
    "'''\n",
    "try:\n",
    "    cur.execute(sql)\n",
    "    print('Table student has been created')\n",
    "except psycopg2.Error as e:\n",
    "    print(e)\n"
   ]
  },
  {
   "cell_type": "markdown",
   "id": "4f5fd45e-e29d-41f3-b678-3ba3e7ea900f",
   "metadata": {},
   "source": [
    "### Insert 2 records in the newly created table for students"
   ]
  },
  {
   "cell_type": "code",
   "execution_count": 36,
   "id": "45ec2a89-2302-4a77-adb2-9287e9f9b086",
   "metadata": {},
   "outputs": [],
   "source": [
    "try:\n",
    "    cur.execute(\n",
    "        'INSERT INTO student (name, age, gender, subject, marks) \\\n",
    "         VALUES(%s,%s,%s,%s,%s)', ('Raj', 23, 'Male', 'Python', 85))\n",
    "except psycopg2.Error as e:\n",
    "    print('Error inserting rows')\n",
    "    print(e)"
   ]
  },
  {
   "cell_type": "code",
   "execution_count": 37,
   "id": "69da525c-6698-4fef-9df8-213b0777ca40",
   "metadata": {},
   "outputs": [],
   "source": [
    "try:\n",
    "    cur.execute(\n",
    "        'INSERT INTO student (name, age, gender, subject, marks) \\\n",
    "         VALUES(%s,%s,%s,%s,%s)', ('Priya', 22, 'Female', 'Python', 86))\n",
    "except psycopg2.Error as e:\n",
    "    print('Error inserting rows')\n",
    "    print(e)"
   ]
  },
  {
   "cell_type": "markdown",
   "id": "c5d57444-71a9-4275-b45f-6b5635fae5ca",
   "metadata": {},
   "source": [
    "### Validate records were inserted: SELECT"
   ]
  },
  {
   "cell_type": "code",
   "execution_count": 38,
   "id": "e9ef72e7-62fc-46da-970c-99c01f72e250",
   "metadata": {},
   "outputs": [
    {
     "name": "stdout",
     "output_type": "stream",
     "text": [
      "(1, 'Raj', 23, 'Male', 'Python', 85)\n",
      "(2, 'Priya', 22, 'Female', 'Python', 86)\n"
     ]
    }
   ],
   "source": [
    "try:\n",
    "    cur.execute('SELECT * FROM student;')\n",
    "except psycopg2.Eror as e:\n",
    "    print('Error while retreiving data')\n",
    "    print(e)\n",
    "\n",
    "row = cur.fetchone()\n",
    "while row:\n",
    "    print(row)\n",
    "    row = cur.fetchone()"
   ]
  },
  {
   "cell_type": "markdown",
   "id": "05e6ab5e-55fd-4556-be77-f06d2a6bb1df",
   "metadata": {},
   "source": [
    "### Release resources: close cursor and connection"
   ]
  },
  {
   "cell_type": "code",
   "execution_count": 39,
   "id": "b00d8ec8-86fb-44a5-bfa4-4e462d84fa31",
   "metadata": {},
   "outputs": [],
   "source": [
    "cur.close()\n",
    "conn.close()"
   ]
  }
 ],
 "metadata": {
  "kernelspec": {
   "display_name": "coding_with_darshil",
   "language": "python",
   "name": "coding_with_darshil"
  },
  "language_info": {
   "codemirror_mode": {
    "name": "ipython",
    "version": 3
   },
   "file_extension": ".py",
   "mimetype": "text/x-python",
   "name": "python",
   "nbconvert_exporter": "python",
   "pygments_lexer": "ipython3",
   "version": "3.8.10"
  }
 },
 "nbformat": 4,
 "nbformat_minor": 5
}
